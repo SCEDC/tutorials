{
 "cells": [
  {
   "cell_type": "markdown",
   "id": "ffbd5856",
   "metadata": {},
   "source": [
    "## <span style=\"color: blue\">Download waveform data from SCEDC public data set (on AWS) for the 2019 Ridgecrest earthquake sequence</span>"
   ]
  },
  {
   "cell_type": "markdown",
   "id": "a3d3b599",
   "metadata": {},
   "source": [
    "#### The aim of this tutorial is to demonstrate how leverage some of several tools offered by the SCEDC to query and download data.  \n",
    "  \n",
    "#### We will download waveform data for the 2019 Ridgecrest earthquake sequence from the public data set for stations of the GS network code.  \n",
    "\n",
    "The GS network code belongs to the US Geological Survey. These GS stations were installed especially to collect data for the 2019 Ridgecrest sequence.\n",
    "\n",
    "### Pre-requisites\n",
    "\n",
    "In order to use this code, you must have\n",
    "\n",
    "a. an AWS account  \n",
    "b. AWS credentials  \n",
    "c. install the AWS command line interface (cli); ``pip install awscli``  \n",
    "**OR**  \n",
    "c. python module boto3; ``pip install boto3``  \n",
    "\n",
    "\n",
    "Instructions on how to obtain a. and b. can be found at https://scedc.caltech.edu/data/getstarted-pds.html under Requirements\n"
   ]
  },
  {
   "cell_type": "markdown",
   "id": "0ac8110c",
   "metadata": {},
   "source": [
    "1. **The first tool we will use is the *Clickable Station Map* to get some basic metadata information regarding the GS stations that were deployed during this time period.** The map is available at https://service.scedc.caltech.edu/SCSNStationMap/station.html\n",
    "  \n",
    "  \n",
    "    ``Using the \"Control Panel\" on the right, select networks = GS and click on \"Display\".``\n",
    "  \n",
    "  \n",
    "     This will bring up the GS stations on the map. These stations are also available to be downloaded as a CSV file, under Station List. The downloaded file will be named station.csv\n",
    "  \n",
    "  \n",
    "     ``Click on the \"Download as csv\" to save the CSV file to your computer.``<br><hr>   \n",
    "      \n",
    "     ![img](./map.png)\n",
    "       <hr>"
   ]
  },
  {
   "cell_type": "markdown",
   "id": "89e32589",
   "metadata": {},
   "source": [
    "2. **The next step is to parse the network and station codes out of the CSV file so we can use them to check for data availability.** This will inform us the time spans waveform data is available for. The station.csv for GS stations is included with this notebook. "
   ]
  },
  {
   "cell_type": "code",
   "execution_count": 1,
   "id": "01083e90",
   "metadata": {},
   "outputs": [
    {
     "name": "stdout",
     "output_type": "stream",
     "text": [
      "[('GS', 'CA01'), ('GS', 'CA02'), ('GS', 'CA03'), ('GS', 'CA04'), ('GS', 'CA05'), ('GS', 'CA06'), ('GS', 'CA07'), ('GS', 'CA08'), ('GS', 'CA09'), ('GS', 'CA10')]\n"
     ]
    }
   ],
   "source": [
    "# Open the CSV file and parse out the network and station codes\n",
    "\n",
    "with open(\"station.csv\") as fp:\n",
    "    all_lines = [line.strip().replace('\"','') for line in fp.readlines()[2:]]\n",
    "    \n",
    "stations = [(line.split(',')[0],line.split(',')[1]) for line in all_lines]\n",
    "print(stations)"
   ]
  },
  {
   "cell_type": "markdown",
   "id": "8d4a2595",
   "metadata": {},
   "source": [
    "3. **Find what data is availabile for these stations using the SCEDC FDSN availability web service. In order to narrow our search results, we will consider only HH1 channels.** \n",
    "  \n",
    "    The availability web service has two endpoints; extent and query.\n",
    "\n",
    "    3a. Using the extent endpoint of the availability web service, find what time spans of data are available for the HH1 channels of the GS network.  \n",
    "      \n",
    "    3b. Next, use the query endpoint of the availability web service with format=request, and request duration of 1 day, to get a list of requests. This list of channel + duration is one we want to get waveform data for. Save this list of requests to a file named avail.txt"
   ]
  },
  {
   "cell_type": "code",
   "execution_count": 2,
   "id": "92ea8f4c",
   "metadata": {},
   "outputs": [
    {
     "name": "stdout",
     "output_type": "stream",
     "text": [
      "#Network Station Location Channel Quality SampleRate Earliest Latest Updated TimeSpans Restriction\n",
      "GS CA01 00 HH1 D 100.00 2019-07-08T00:40:57.000000Z 2019-10-30T19:10:34.000000Z NA NA OPEN\n",
      "GS CA02 00 HH1 D 100.00 2019-07-08T01:54:23.000000Z 2019-07-26T01:55:33.000000Z NA NA OPEN\n",
      "GS CA03 00 HH1 D 100.00 2019-07-08T20:24:36.000000Z 2020-02-18T21:23:38.000000Z NA NA OPEN\n",
      "GS CA04 00 HH1 D 100.00 2019-07-09T21:55:08.000000Z 2019-11-27T18:10:30.000000Z NA NA OPEN\n",
      "GS CA05 00 HH1 D 100.00 2019-07-10T18:31:16.000000Z 2020-01-22T21:06:13.000000Z NA NA OPEN\n",
      "GS CA06 00 HH1 D 100.00 2019-07-11T00:29:52.000000Z 2020-02-06T18:03:34.000000Z NA NA OPEN\n",
      "\n"
     ]
    }
   ],
   "source": [
    "# 3a. Use the extent endpoint of the availability web service, \n",
    "# find what time spans of data are available for the HH1 channels of the GS network. \n",
    "\n",
    "# define some variables for reuse\n",
    "\n",
    "network = 'GS'\n",
    "channel = 'HH1'\n",
    "\n",
    "avail_extent_url = 'https://service.scedc.caltech.edu/fdsnws/availability/1/extent?'\\\n",
    "                   'network=' + network + '&channel=' + channel + '&format=text&nodata=404'\n",
    "\n",
    "import urllib.request\n",
    "with urllib.request.urlopen(avail_extent_url) as response:\n",
    "    extent_out = response.read().decode('utf-8')\n",
    "\n",
    "print (extent_out)\n",
    "\n",
    "# As seen below, the earliest data for HH1 channels starts on 2019-07-08. "
   ]
  },
  {
   "cell_type": "code",
   "execution_count": 3,
   "id": "0adb0ad7",
   "metadata": {},
   "outputs": [],
   "source": [
    "# 3b. use the query endpoint of the availability web service with format=request, \n",
    "# and request duration of 1 day, to get a list of requests. \n",
    "# This is the list of channel + duration that we want to get waveform data for. \n",
    "# Save this list of requests to a file named avail.txt\n",
    "\n",
    "# The day chosen to get the data for\n",
    "starttime = '2019-07-09T00:00:00'\n",
    "endtime = '2019-07-09T23:59:59'\n",
    "\n",
    "import os\n",
    "avail_file = os.path.join('/tmp','avail.txt')\n",
    "\n",
    "avail_query_url = 'https://service.scedc.caltech.edu/fdsnws/availability/1/query?'\\\n",
    "                    'network=' + network + '&channel=' + channel + '&format=request&nodata=404'\\\n",
    "                    '&starttime=' + starttime + '&endtime=' + endtime\n",
    "\n",
    "with urllib.request.urlopen(avail_query_url) as response:\n",
    "    with open(avail_file,\"w\") as fp:\n",
    "        fp.writelines(response.read().decode('utf-8'))\n"
   ]
  },
  {
   "cell_type": "markdown",
   "id": "6f3bfbc6",
   "metadata": {},
   "source": [
    "4. **Now, retrieve waveform data from the public data set (pds) for the list we produced in previous step.**    \n",
    "      \n",
    "    There are 2 options to download data, you can use either one.  \n",
    "    \n",
    "    \n",
    "    #### Option 1    \n",
    "    \n",
    "    Use a program called pds_fetch_continuous_data to download data. This program is available at https://github.com/SCEDC/cloud.git and is one of the several example programs provided for accessing the public data set.  \n",
    "  \n",
    "  \n",
    "    **IMPORTANT** : In order to proceed further, ensure you have fulfilled the pre-requirements mentioned in the beginning of the tutorial."
   ]
  },
  {
   "cell_type": "code",
   "execution_count": 4,
   "id": "02e57762",
   "metadata": {},
   "outputs": [],
   "source": [
    "#!pip install awscli"
   ]
  },
  {
   "cell_type": "code",
   "execution_count": null,
   "id": "90102070",
   "metadata": {},
   "outputs": [],
   "source": [
    "!git clone https://github.com/SCEDC/cloud.git"
   ]
  },
  {
   "cell_type": "code",
   "execution_count": 6,
   "id": "d187ca0d",
   "metadata": {},
   "outputs": [],
   "source": [
    "#!python3 cloud/pds-fetch-continuous-data/fetch_continuous_data.py --help\n"
   ]
  },
  {
   "cell_type": "code",
   "execution_count": 7,
   "id": "823c3903",
   "metadata": {},
   "outputs": [
    {
     "name": "stdout",
     "output_type": "stream",
     "text": [
      "Starting download from pds for 3 requests...\n",
      "Dividing requests between 1 process(es)\n",
      "[ 1252980 ] ['aws', 's3', 'cp', '--quiet', 's3://scedc-pds/continuous_waveforms/2019/2019_190/GSCA01_HH100_2019190.ms', '/tmp/GSCA01_HH100_2019190.ms']\n",
      "[ 1252980 ] ['aws', 's3', 'cp', '--quiet', 's3://scedc-pds/continuous_waveforms/2019/2019_190/GSCA02_HH100_2019190.ms', '/tmp/GSCA02_HH100_2019190.ms']\n",
      "[ 1252980 ] ['aws', 's3', 'cp', '--quiet', 's3://scedc-pds/continuous_waveforms/2019/2019_190/GSCA03_HH100_2019190.ms', '/tmp/GSCA03_HH100_2019190.ms']\n",
      "[ 1252980 ] Time to download per process is  12 seconds\n",
      "[ 1252980 ] MB downloaded    =  41.88720703125\n",
      "[ 1252980 ] Rate of download =  3.4906005859375  MB/sec\n",
      "\n",
      "\n",
      "Summary : \n",
      "\n",
      "TOTAL MB downloaded :  41.88720703125 \n",
      "AVG time to download per process :  12.0 seconds\n",
      "\n"
     ]
    }
   ],
   "source": [
    "!python3 cloud/pds-fetch-continuous-data/fetch_continuous_data.py --infile /tmp/avail.txt --outdir /tmp\n"
   ]
  },
  {
   "cell_type": "code",
   "execution_count": 8,
   "id": "ccdca5ff",
   "metadata": {},
   "outputs": [
    {
     "name": "stdout",
     "output_type": "stream",
     "text": [
      "-rw-r--r-- 1 aparnab seismo 18196992 Dec 13  2019 /tmp/GSCA01_HH100_2019190.ms\r\n",
      "-rw-r--r-- 1 aparnab seismo 14103040 Dec 13  2019 /tmp/GSCA03_HH100_2019190.ms\r\n",
      "-rw-r--r-- 1 aparnab seismo 11621888 Dec 13  2019 /tmp/GSCA02_HH100_2019190.ms\r\n",
      "-rw-r--r-- 1 aparnab seismo   961536 Mar 23 09:43 /tmp/GSCA04_HH100_2019190.ms\r\n"
     ]
    }
   ],
   "source": [
    "!ls -ltr /tmp/*.ms\n"
   ]
  },
  {
   "cell_type": "markdown",
   "id": "b2f846a1",
   "metadata": {},
   "source": [
    "# OR\n",
    "\n",
    "#### Option 2  \n",
    "  \n",
    "  \n",
    "Another option for step 4. is to use the boto3 python module provided by AWS to query and get objects/files from the SCEDC public data set. "
   ]
  },
  {
   "cell_type": "code",
   "execution_count": 9,
   "id": "33b542e2",
   "metadata": {},
   "outputs": [],
   "source": [
    "#!pip install boto3\n",
    "\n",
    "# to get your access credentials see Pre-requisites a. of this tutorial \n",
    "\n",
    "#!export AWS_DEFAULT_REGION=us-west-2\n",
    "#!export AWS_ACCESS_KEY_ID=your key id\n",
    "#!export AWS_SECRET_ACCESS_KEY=your secret key"
   ]
  },
  {
   "cell_type": "code",
   "execution_count": 10,
   "id": "356b4b26",
   "metadata": {},
   "outputs": [],
   "source": [
    "import boto3\n",
    "import os\n",
    "import datetime\n",
    "\n",
    "bucket = 'scedc-pds'\n",
    "prefix = 'continuous_waveforms'\n",
    "\n",
    "# SCEDC public data set stored miniSEED data in day long files. \n",
    "# A day is the minimum temporal granularity for retrieval.\n",
    "#\n",
    "# So, convert the starttime (or endtime) to year_julianday, which the path naming format (prefix) expected by the pds.\n",
    "#\n",
    "year = datetime.datetime.fromisoformat(starttime+'+00:00').strftime('%Y') #2019\n",
    "julian_day = datetime.datetime.fromisoformat(starttime+'+00:00').strftime('%Y_%j') #2019_190\n"
   ]
  },
  {
   "cell_type": "code",
   "execution_count": 11,
   "id": "57fc6759",
   "metadata": {},
   "outputs": [
    {
     "name": "stdout",
     "output_type": "stream",
     "text": [
      "continuous_waveforms/2019/2019_190/GSCA01_HH100_2019190.ms ==> /tmp/GSCA01_HH100_2019190.ms\n",
      "continuous_waveforms/2019/2019_190/GSCA02_HH100_2019190.ms ==> /tmp/GSCA02_HH100_2019190.ms\n",
      "continuous_waveforms/2019/2019_190/GSCA03_HH100_2019190.ms ==> /tmp/GSCA03_HH100_2019190.ms\n",
      "continuous_waveforms/2019/2019_190/GSCA04_HH100_2019190.ms ==> /tmp/GSCA04_HH100_2019190.ms\n"
     ]
    }
   ],
   "source": [
    "# get an s3 client using your credentials\n",
    "s3 = boto3.client('s3')\n",
    "\n",
    "# create the prefix expected by pds; continuous_waveforms/YYYY/YYYY_JJJ/GSCA. \n",
    "# The last part is the network code and first two characters of the station code to narrow our search.\n",
    "prefix = os.path.join(prefix, year, julian_day, 'GSCA')\n",
    "\n",
    "\n",
    "# use list_objects_v2 to get a list of the filenames to download\n",
    "response = s3.list_objects_v2(\n",
    "            Bucket = bucket,\n",
    "            Prefix = prefix\n",
    ")\n",
    "\n",
    "# get a list of pds objects of for GS.CA*.HH1 from response\n",
    "pds_objs = [obj['Key'] for obj in response['Contents'] if obj['Key'].find('HH1') != -1]\n",
    "\n",
    "kwargs = {'Bucket':bucket}\n",
    "\n",
    "for key in pds_objs:\n",
    "    kwargs['Key'] = key\n",
    "    \n",
    "    # local filename with path \n",
    "    kwargs['Filename'] = os.path.join('/tmp', os.path.basename(key))\n",
    "    \n",
    "    print(key, '==>', kwargs['Filename'])\n",
    "    \n",
    "    s3.download_file(**kwargs)"
   ]
  },
  {
   "cell_type": "code",
   "execution_count": 12,
   "id": "fae0f78a",
   "metadata": {},
   "outputs": [
    {
     "name": "stdout",
     "output_type": "stream",
     "text": [
      "-rw-r--r-- 1 aparnab seismo 18196992 Mar 23 09:44 /tmp/GSCA01_HH100_2019190.ms\r\n",
      "-rw-r--r-- 1 aparnab seismo 11621888 Mar 23 09:44 /tmp/GSCA02_HH100_2019190.ms\r\n",
      "-rw-r--r-- 1 aparnab seismo 14103040 Mar 23 09:44 /tmp/GSCA03_HH100_2019190.ms\r\n",
      "-rw-r--r-- 1 aparnab seismo   961536 Mar 23 09:44 /tmp/GSCA04_HH100_2019190.ms\r\n"
     ]
    }
   ],
   "source": [
    "!ls -ltr /tmp/*.ms"
   ]
  }
 ],
 "metadata": {
  "kernelspec": {
   "display_name": "venv",
   "language": "python",
   "name": "venv"
  },
  "language_info": {
   "codemirror_mode": {
    "name": "ipython",
    "version": 3
   },
   "file_extension": ".py",
   "mimetype": "text/x-python",
   "name": "python",
   "nbconvert_exporter": "python",
   "pygments_lexer": "ipython3",
   "version": "3.10.5"
  }
 },
 "nbformat": 4,
 "nbformat_minor": 5
}
