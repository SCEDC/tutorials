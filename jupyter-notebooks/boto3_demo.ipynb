{
 "cells": [
  {
   "cell_type": "markdown",
   "id": "a7b33ceb",
   "metadata": {},
   "source": [
    "This notebook is a simple demonstration of how to use boto3 to access a waveform file from the SCEDC AWS Open Dataset s3://scedc-pds. No AWS account is required.\n",
    "Requirements:\n",
    "boto3\n",
    "botocore\n",
    "obspy"
   ]
  },
  {
   "cell_type": "code",
   "execution_count": 1,
   "id": "eacdacb5",
   "metadata": {},
   "outputs": [],
   "source": [
    "import obspy\n",
    "from obspy import read\n",
    "import boto3\n",
    "from botocore import UNSIGNED\n",
    "from botocore.config import Config\n",
    "s3=boto3.resource('s3',config=Config(signature_version=UNSIGNED))"
   ]
  },
  {
   "cell_type": "code",
   "execution_count": 2,
   "id": "0c96f0b7",
   "metadata": {},
   "outputs": [],
   "source": [
    "BUCKET_NAME = 'scedc-pds'\n",
    "KEY='continuous_waveforms/2017/2017_180/CIGSC__BHZ___2017180.ms'"
   ]
  },
  {
   "cell_type": "code",
   "execution_count": 3,
   "id": "e8053b55",
   "metadata": {},
   "outputs": [],
   "source": [
    "s3.Bucket(BUCKET_NAME).download_file(KEY,'CIGSC__BHZ___2017180.ms')"
   ]
  },
  {
   "cell_type": "code",
   "execution_count": 4,
   "id": "d6efbf95",
   "metadata": {},
   "outputs": [
    {
     "name": "stdout",
     "output_type": "stream",
     "text": [
      "2 Trace(s) in Stream:\n",
      "CI.GSC..BHZ | 2017-06-29T00:00:00.019500Z - 2017-06-29T16:02:03.744500Z | 40.0 Hz, 2308950 samples\n",
      "CI.GSC..BHZ | 2017-06-29T16:02:10.594538Z - 2017-06-29T23:59:59.994538Z | 40.0 Hz, 1146777 samples\n"
     ]
    }
   ],
   "source": [
    "ch = read('CIGSC__BHZ___2017180.ms')\n",
    "print (ch)"
   ]
  },
  {
   "cell_type": "code",
   "execution_count": null,
   "id": "0d8efff7",
   "metadata": {},
   "outputs": [],
   "source": []
  }
 ],
 "metadata": {
  "kernelspec": {
   "display_name": "Python 3 (ipykernel)",
   "language": "python",
   "name": "python3"
  },
  "language_info": {
   "codemirror_mode": {
    "name": "ipython",
    "version": 3
   },
   "file_extension": ".py",
   "mimetype": "text/x-python",
   "name": "python",
   "nbconvert_exporter": "python",
   "pygments_lexer": "ipython3",
   "version": "3.7.12"
  }
 },
 "nbformat": 4,
 "nbformat_minor": 5
}
