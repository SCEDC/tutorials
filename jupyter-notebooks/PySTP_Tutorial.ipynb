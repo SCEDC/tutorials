{
 "cells": [
  {
   "cell_type": "markdown",
   "metadata": {},
   "source": [
    "This tutorial will show you how to use STP to look for an event, check its waveform availability, download and plot waveforms, and access phase picks. \n",
    "\n",
    "First, make sure you are running Jupyter from the same Python environment where PySTP is or will be installed. Download and install PySTP.\n",
    "\n",
    "If you are using Google Colab, or you need to install PySTP and its dependencies in your local Python environment, uncomment and run the following line:"
   ]
  },
  {
   "cell_type": "code",
   "execution_count": null,
   "metadata": {},
   "outputs": [],
   "source": [
    "# %pip install git+https://github.com/SCEDC/pystp.git"
   ]
  },
  {
   "cell_type": "markdown",
   "metadata": {},
   "source": [
    "Once you have installed PySTP, import the ``pystp.STPClient`` module and any other needed modules. ``datetime`` is needed to search for events by date or timestamp."
   ]
  },
  {
   "cell_type": "code",
   "execution_count": null,
   "metadata": {},
   "outputs": [],
   "source": [
    "from pystp import STPClient\n",
    "import datetime\n",
    "\n",
    "# Allow plotting in the notebook.\n",
    "%matplotlib inline"
   ]
  },
  {
   "cell_type": "markdown",
   "metadata": {},
   "source": [
    "Connect to one of the STP servers by creating a new STPClient object and calling the `connect()` function. By default, it will connect to the first STP server, stp.gps.caltech.edu."
   ]
  },
  {
   "cell_type": "code",
   "execution_count": null,
   "metadata": {},
   "outputs": [],
   "source": [
    "stp = STPClient()\n",
    "stp.connect()"
   ]
  },
  {
   "cell_type": "markdown",
   "metadata": {},
   "source": [
    "# Finding Events"
   ]
  },
  {
   "cell_type": "markdown",
   "metadata": {},
   "source": [
    "The `get_events` function searches for events and returns an [ObsPy catalog](https://docs.obspy.org/packages/autogen/obspy.core.event.Catalog.html), which is a container of events.\n",
    "\n",
    "Let's look for a M4.2 event that occurred on January 25, 2023, near Malibu, CA, by searching for all M4-5 events that occurred between January 25 and January 26."
   ]
  },
  {
   "cell_type": "code",
   "execution_count": null,
   "metadata": {},
   "outputs": [],
   "source": [
    "events = stp.get_events(times=[datetime.datetime(2023, 1, 25), datetime.datetime(2023, 1, 26)], mags=[4, 5])\n",
    "events"
   ]
  },
  {
   "cell_type": "markdown",
   "metadata": {},
   "source": [
    "The events in the catalog can be accessed by index, as in a list. The network ID of the event is set in the field ``Event.resource_id``. The catalog ``events`` only contains one event, so let's store its ID in ``evid.``"
   ]
  },
  {
   "cell_type": "code",
   "execution_count": null,
   "metadata": {},
   "outputs": [],
   "source": [
    "evid= events[0].resource_id\n",
    "evid"
   ]
  },
  {
   "cell_type": "markdown",
   "metadata": {},
   "source": [
    "# Listing Available Waveforms"
   ]
  },
  {
   "cell_type": "markdown",
   "metadata": {},
   "source": [
    "The ``get_eavail`` function runs STP's ``eavail`` command to list available waveforms for an event. Long format, or 'l', will get full listings that include network code, station code, channel code, location code, waveform type, an archival status flag, start time, and duration of the waveform.\n",
    "\n",
    "``get_eavail`` can return the result as a string or as a Python list, set by the ``as_list`` parameter.\n",
    "\n",
    "Let's display all the waveforms available forevent 40161279."
   ]
  },
  {
   "cell_type": "code",
   "execution_count": null,
   "metadata": {},
   "outputs": [],
   "source": [
    "print(stp.get_eavail(evid, format='l', as_list=False))"
   ]
  },
  {
   "cell_type": "markdown",
   "metadata": {},
   "source": [
    "Narrow down the search by looking at what's available for the station `CI.BAK`. `get_eavail` can search by network, station, or channel. Oracle wildcards ('\\_' or '%') are accepted."
   ]
  },
  {
   "cell_type": "code",
   "execution_count": null,
   "metadata": {},
   "outputs": [],
   "source": [
    "stp.get_eavail(evid, format='l', net='CI', sta='BAK', chan=\"HH_\")"
   ]
  },
  {
   "cell_type": "markdown",
   "metadata": {},
   "source": [
    "Because ``as_list`` was not set, it defaulted to ``True``, and we got a Python list returned."
   ]
  },
  {
   "cell_type": "markdown",
   "metadata": {},
   "source": [
    "# Downloading Waveforms for an Event\n",
    "\n",
    "The `get_trig` function downloads waveforms triggered by events and either returns the waveforms as a Python dictionary of ObsPy streams with event IDs as keys. Search parameters of `net` (network), `sta` (station), `chan` (SEED channel), `loc` (location code), and `radius` can be specified to only download data from certain stations or channels that meet the name criteria or are within a radius from the origin. \"Blank blank\" location codes should be passed in as \"--\". \n",
    "\n",
    "The next command downloads all waveforms from CI.BAKfor the above event and stores them in ``waveforms``."
   ]
  },
  {
   "cell_type": "code",
   "execution_count": null,
   "metadata": {},
   "outputs": [],
   "source": [
    "waveforms = stp.get_trig(evid, net='CI', sta='BAK', as_stream=False)\n",
    "waveforms"
   ]
  },
  {
   "cell_type": "code",
   "execution_count": null,
   "metadata": {},
   "outputs": [],
   "source": [
    "from obspy import read"
   ]
  },
  {
   "cell_type": "code",
   "execution_count": null,
   "metadata": {},
   "outputs": [],
   "source": [
    "s = read('./40161279/40161279.CI.BAK.HNZ.sac')"
   ]
  },
  {
   "cell_type": "code",
   "execution_count": null,
   "metadata": {},
   "outputs": [],
   "source": [
    "s\n",
    "s.plot()"
   ]
  },
  {
   "cell_type": "markdown",
   "metadata": {},
   "source": [
    "`waveforms` is a dictionary that maps the event ID to an ObsPy stream."
   ]
  },
  {
   "cell_type": "markdown",
   "metadata": {},
   "source": [
    "[ObsPy stream](https://docs.obspy.org/packages/autogen/obspy.core.stream.Stream.html) methods can be used to select traces from the stream and to do processing and plotting. The following line returns a new Stream that only contains data from CI.BAK.HH channels."
   ]
  },
  {
   "cell_type": "code",
   "execution_count": null,
   "metadata": {},
   "outputs": [],
   "source": [
    "waveforms[evid].select(network='CI', station='BAK', channel='HH*')"
   ]
  },
  {
   "cell_type": "markdown",
   "metadata": {},
   "source": [
    "Let's use ObsPy's 'plot()' function to plot the waveforms from CI.BAK.HH."
   ]
  },
  {
   "cell_type": "code",
   "execution_count": null,
   "metadata": {},
   "outputs": [],
   "source": [
    "waveforms[evid].select(channel='HH*').plot()"
   ]
  },
  {
   "cell_type": "markdown",
   "metadata": {},
   "source": [
    "# Downloading Phase Picks\n",
    "\n"
   ]
  },
  {
   "cell_type": "code",
   "execution_count": null,
   "metadata": {},
   "outputs": [],
   "source": [
    "events[0].picks"
   ]
  },
  {
   "cell_type": "code",
   "execution_count": null,
   "metadata": {},
   "outputs": [],
   "source": [
    "phase_catalog = stp.get_phases(evids=[evid])"
   ]
  },
  {
   "cell_type": "code",
   "execution_count": null,
   "metadata": {},
   "outputs": [],
   "source": [
    "phase_catalog"
   ]
  },
  {
   "cell_type": "code",
   "execution_count": null,
   "metadata": {},
   "outputs": [],
   "source": [
    "phase_catalog[0]"
   ]
  },
  {
   "cell_type": "code",
   "execution_count": null,
   "metadata": {},
   "outputs": [],
   "source": [
    "phase_catalog[0].picks"
   ]
  },
  {
   "cell_type": "markdown",
   "metadata": {},
   "source": [
    "# Disconnecting from the STP Server\n",
    "\n",
    "When you are done, disconnect from the server. After disconnecting, you will need to run `connect()` again to use the STP server."
   ]
  },
  {
   "cell_type": "code",
   "execution_count": null,
   "metadata": {},
   "outputs": [],
   "source": [
    "stp.disconnect()"
   ]
  }
 ],
 "metadata": {
  "kernelspec": {
   "display_name": "Python 3 (ipykernel)",
   "language": "python",
   "name": "python3"
  },
  "language_info": {
   "codemirror_mode": {
    "name": "ipython",
    "version": 3
   },
   "file_extension": ".py",
   "mimetype": "text/x-python",
   "name": "python",
   "nbconvert_exporter": "python",
   "pygments_lexer": "ipython3",
   "version": "3.8.10"
  }
 },
 "nbformat": 4,
 "nbformat_minor": 2
}
